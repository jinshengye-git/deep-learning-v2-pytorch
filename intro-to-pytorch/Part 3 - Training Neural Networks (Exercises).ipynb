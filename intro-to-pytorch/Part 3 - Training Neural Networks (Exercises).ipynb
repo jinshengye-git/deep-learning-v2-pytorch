{
 "cells": [
  {
   "cell_type": "markdown",
   "metadata": {},
   "source": [
    "# Training Neural Networks\n",
    "\n",
    "The network we built in the previous part isn't so smart, it doesn't know anything about our handwritten digits. Neural networks with non-linear activations work like universal function approximators. There is some function that maps your input to the output. For example, images of handwritten digits to class probabilities. The power of neural networks is that we can train them to approximate this function, and basically any function given enough data and compute time.\n",
    "\n",
    "<img src=\"assets/function_approx.png\" width=500px>\n",
    "\n",
    "At first the network is naive, it doesn't know the function mapping the inputs to the outputs. We train the network by showing it examples of real data, then adjusting the network parameters such that it approximates this function.\n",
    "\n",
    "To find these parameters, we need to know how poorly the network is predicting the real outputs. For this we calculate a **loss function** (also called the cost), a measure of our prediction error. For example, the mean squared loss is often used in regression and binary classification problems\n",
    "\n",
    "$$\n",
    "\\large \\ell = \\frac{1}{2n}\\sum_i^n{\\left(y_i - \\hat{y}_i\\right)^2}\n",
    "$$\n",
    "\n",
    "where $n$ is the number of training examples, $y_i$ are the true labels, and $\\hat{y}_i$ are the predicted labels.\n",
    "\n",
    "By minimizing this loss with respect to the network parameters, we can find configurations where the loss is at a minimum and the network is able to predict the correct labels with high accuracy. We find this minimum using a process called **gradient descent**. The gradient is the slope of the loss function and points in the direction of fastest change. To get to the minimum in the least amount of time, we then want to follow the gradient (downwards). You can think of this like descending a mountain by following the steepest slope to the base.\n",
    "\n",
    "<img src='assets/gradient_descent.png' width=350px>"
   ]
  },
  {
   "cell_type": "markdown",
   "metadata": {},
   "source": [
    "## Backpropagation\n",
    "\n",
    "For single layer networks, gradient descent is straightforward to implement. However, it's more complicated for deeper, multilayer neural networks like the one we've built. Complicated enough that it took about 30 years before researchers figured out how to train multilayer networks.\n",
    "\n",
    "Training multilayer networks is done through **backpropagation** which is really just an application of the chain rule from calculus. It's easiest to understand if we convert a two layer network into a graph representation.\n",
    "\n",
    "<img src='assets/backprop_diagram.png' width=550px>\n",
    "\n",
    "In the forward pass through the network, our data and operations go from bottom to top here. We pass the input $x$ through a linear transformation $L_1$ with weights $W_1$ and biases $b_1$. The output then goes through the sigmoid operation $S$ and another linear transformation $L_2$. Finally we calculate the loss $\\ell$. We use the loss as a measure of how bad the network's predictions are. The goal then is to adjust the weights and biases to minimize the loss.\n",
    "\n",
    "To train the weights with gradient descent, we propagate the gradient of the loss backwards through the network. Each operation has some gradient between the inputs and outputs. As we send the gradients backwards, we multiply the incoming gradient with the gradient for the operation. Mathematically, this is really just calculating the gradient of the loss with respect to the weights using the chain rule.\n",
    "\n",
    "$$\n",
    "\\large \\frac{\\partial \\ell}{\\partial W_1} = \\frac{\\partial L_1}{\\partial W_1} \\frac{\\partial S}{\\partial L_1} \\frac{\\partial L_2}{\\partial S} \\frac{\\partial \\ell}{\\partial L_2}\n",
    "$$\n",
    "\n",
    "**Note:** I'm glossing over a few details here that require some knowledge of vector calculus, but they aren't necessary to understand what's going on.\n",
    "\n",
    "We update our weights using this gradient with some learning rate $\\alpha$. \n",
    "\n",
    "$$\n",
    "\\large W^\\prime_1 = W_1 - \\alpha \\frac{\\partial \\ell}{\\partial W_1}\n",
    "$$\n",
    "\n",
    "The learning rate $\\alpha$ is set such that the weight update steps are small enough that the iterative method settles in a minimum."
   ]
  },
  {
   "cell_type": "markdown",
   "metadata": {},
   "source": [
    "## Losses in PyTorch\n",
    "\n",
    "Let's start by seeing how we calculate the loss with PyTorch. Through the `nn` module, PyTorch provides losses such as the cross-entropy loss (`nn.CrossEntropyLoss`). You'll usually see the loss assigned to `criterion`. As noted in the last part, with a classification problem such as MNIST, we're using the softmax function to predict class probabilities. With a softmax output, you want to use cross-entropy as the loss. To actually calculate the loss, you first define the criterion then pass in the output of your network and the correct labels.\n",
    "\n",
    "Something really important to note here. Looking at [the documentation for `nn.CrossEntropyLoss`](https://pytorch.org/docs/stable/nn.html#torch.nn.CrossEntropyLoss),\n",
    "\n",
    "> This criterion combines `nn.LogSoftmax()` and `nn.NLLLoss()` in one single class.\n",
    ">\n",
    "> The input is expected to contain scores for each class.\n",
    "\n",
    "This means we need to pass in the raw output of our network into the loss, not the output of the softmax function. This raw output is usually called the *logits* or *scores*. We use the logits because softmax gives you probabilities which will often be very close to zero or one but floating-point numbers can't accurately represent values near zero or one ([read more here](https://docs.python.org/3/tutorial/floatingpoint.html)). It's usually best to avoid doing calculations with probabilities, typically we use log-probabilities."
   ]
  },
  {
   "cell_type": "code",
   "execution_count": 1,
   "metadata": {},
   "outputs": [],
   "source": [
    "import torch\n",
    "from torch import nn\n",
    "import torch.nn.functional as F\n",
    "from torchvision import datasets, transforms\n",
    "\n",
    "# Define a transform to normalize the data\n",
    "transform = transforms.Compose([transforms.ToTensor(),\n",
    "                                transforms.Normalize((0.5,), (0.5,)),\n",
    "                              ])\n",
    "# Download and load the training data\n",
    "trainset = datasets.MNIST('~/.pytorch/MNIST_data/', download=True, train=True, transform=transform)\n",
    "trainloader = torch.utils.data.DataLoader(trainset, batch_size=64, shuffle=True)"
   ]
  },
  {
   "cell_type": "markdown",
   "metadata": {},
   "source": [
    "### Note\n",
    "If you haven't seen `nn.Sequential` yet, please finish the end of the Part 2 notebook."
   ]
  },
  {
   "cell_type": "code",
   "execution_count": 2,
   "metadata": {},
   "outputs": [
    {
     "name": "stdout",
     "output_type": "stream",
     "text": [
      "tensor(2.2590)\n"
     ]
    }
   ],
   "source": [
    "# Build a feed-forward network\n",
    "model = nn.Sequential(nn.Linear(784, 128),\n",
    "                      nn.ReLU(),\n",
    "                      nn.Linear(128, 64),\n",
    "                      nn.ReLU(),\n",
    "                      nn.Linear(64, 10))\n",
    "\n",
    "# Define the loss\n",
    "criterion = nn.CrossEntropyLoss()\n",
    "\n",
    "# Get our data\n",
    "images, labels = next(iter(trainloader))\n",
    "# Flatten images\n",
    "images = images.view(images.shape[0], -1)\n",
    "\n",
    "# Forward pass, get our logits\n",
    "logits = model(images)\n",
    "# Calculate the loss with the logits and the labels\n",
    "loss = criterion(logits, labels)\n",
    "\n",
    "print(loss)"
   ]
  },
  {
   "cell_type": "markdown",
   "metadata": {},
   "source": [
    "In my experience it's more convenient to build the model with a log-softmax output using `nn.LogSoftmax` or `F.log_softmax` ([documentation](https://pytorch.org/docs/stable/nn.html#torch.nn.LogSoftmax)). Then you can get the actual probabilities by taking the exponential `torch.exp(output)`. With a log-softmax output, you want to use the negative log likelihood loss, `nn.NLLLoss` ([documentation](https://pytorch.org/docs/stable/nn.html#torch.nn.NLLLoss)).\n",
    "\n",
    ">**Exercise:** Build a model that returns the log-softmax as the output and calculate the loss using the negative log likelihood loss. Note that for `nn.LogSoftmax` and `F.log_softmax` you'll need to set the `dim` keyword argument appropriately. `dim=0` calculates softmax across the rows, so each column sums to 1, while `dim=1` calculates across the columns so each row sums to 1. Think about what you want the output to be and choose `dim` appropriately."
   ]
  },
  {
   "cell_type": "code",
   "execution_count": 14,
   "metadata": {},
   "outputs": [
    {
     "name": "stdout",
     "output_type": "stream",
     "text": [
      "tensor([ 0,  2,  4,  4,  6,  8,  9,  1,  1,  3,  8,  2,  2,  3,\n",
      "         7,  1,  1,  3,  3,  3,  3,  5,  7,  6,  8,  8,  4,  1,\n",
      "         2,  4,  0,  1,  5,  7,  7,  4,  2,  3,  9,  6,  7,  7,\n",
      "         8,  9,  6,  3,  2,  2,  7,  0,  0,  9,  0,  0,  8,  3,\n",
      "         8,  6,  9,  2,  7,  0,  4,  7])\n",
      "tensor([[-14.1054, -10.2806, -15.2155,  -6.3369,  -8.6083,  -0.0023,\n",
      "         -12.1914,  -8.1973, -11.6849, -12.2999],\n",
      "        [-14.3474, -10.4013, -15.9180,  -6.8110,  -9.1108,  -0.0014,\n",
      "         -12.3302,  -8.6225, -12.1580, -12.4302],\n",
      "        [-14.4315, -10.5051, -15.7774,  -6.8819,  -8.7511,  -0.0014,\n",
      "         -12.2745,  -8.7803, -12.0621, -12.4921],\n",
      "        [-14.2998, -10.3858, -15.7512,  -6.7959,  -8.8196,  -0.0015,\n",
      "         -12.2460,  -8.7643, -12.0226, -12.2315],\n",
      "        [-14.3257, -10.3117, -15.6055,  -6.6870,  -8.6747,  -0.0017,\n",
      "         -12.1598,  -8.4694, -12.0859, -12.1470],\n",
      "        [-14.6101, -10.5866, -15.8403,  -6.7538,  -9.1380,  -0.0015,\n",
      "         -12.4421,  -8.6328, -12.0121, -12.5243],\n",
      "        [-14.5062, -10.4844, -15.7249,  -6.7523,  -8.9000,  -0.0015,\n",
      "         -12.3683,  -8.5736, -12.0720, -12.5662],\n",
      "        [-14.4041, -10.6134, -15.7670,  -6.8307,  -9.0631,  -0.0014,\n",
      "         -12.3464,  -8.7049, -12.0940, -12.4355],\n",
      "        [-14.5545, -10.4640, -15.9112,  -6.7859,  -9.0118,  -0.0015,\n",
      "         -12.3276,  -8.6345, -12.1712, -12.4022],\n",
      "        [-14.5447, -10.5388, -15.7295,  -6.6494,  -8.9052,  -0.0017,\n",
      "         -12.3868,  -8.5754, -12.0438, -12.5919],\n",
      "        [-14.2682, -10.2668, -15.4369,  -6.3907,  -8.8466,  -0.0021,\n",
      "         -12.0445,  -8.2522, -12.0542, -12.1282],\n",
      "        [-14.2211, -10.4577, -15.5780,  -6.4980,  -8.8342,  -0.0019,\n",
      "         -12.1739,  -8.5181, -11.8215, -12.1751],\n",
      "        [-14.4359, -10.3458, -15.7873,  -6.4234,  -8.7949,  -0.0020,\n",
      "         -12.3661,  -8.4462, -11.9886, -12.2270],\n",
      "        [-14.5534, -10.3734, -15.6186,  -6.4766,  -8.7730,  -0.0020,\n",
      "         -12.3936,  -8.3645, -11.9449, -12.2978],\n",
      "        [-14.3617, -10.4998, -15.8483,  -6.5448,  -8.8547,  -0.0018,\n",
      "         -12.3647,  -8.4921, -12.0759, -12.7087],\n",
      "        [-14.1843, -10.4409, -15.8379,  -6.7318,  -8.8892,  -0.0016,\n",
      "         -12.2905,  -8.5737, -12.1047, -12.3856],\n",
      "        [-14.5693, -10.6838, -15.9615,  -6.7902,  -9.0756,  -0.0014,\n",
      "         -12.4373,  -8.7370, -12.1636, -12.4624],\n",
      "        [-14.4419, -10.3425, -15.7816,  -6.6296,  -8.8388,  -0.0017,\n",
      "         -12.3058,  -8.5223, -12.0245, -12.4729],\n",
      "        [-14.4840, -10.2679, -15.6697,  -6.6975,  -8.9271,  -0.0016,\n",
      "         -12.3551,  -8.5682, -11.8323, -12.4740],\n",
      "        [-14.0794, -10.3150, -15.4977,  -6.6174,  -8.8384,  -0.0017,\n",
      "         -12.1339,  -8.4675, -11.9219, -12.2154],\n",
      "        [-14.3542, -10.3456, -15.5671,  -6.4518,  -8.7185,  -0.0020,\n",
      "         -12.3740,  -8.4190, -11.8325, -12.2515],\n",
      "        [-14.2889, -10.3837, -15.6289,  -6.5649,  -8.9362,  -0.0018,\n",
      "         -12.2402,  -8.5354, -12.0833, -12.5842],\n",
      "        [-14.4206, -10.4425, -15.6060,  -6.5687,  -8.8314,  -0.0018,\n",
      "         -12.3453,  -8.4918, -11.9752, -12.5832],\n",
      "        [-14.5725, -10.4402, -15.5278,  -6.6226,  -8.9615,  -0.0017,\n",
      "         -12.3806,  -8.6742, -11.9264, -12.1695],\n",
      "        [-14.2411, -10.3507, -15.4322,  -6.3791,  -8.7098,  -0.0022,\n",
      "         -12.1141,  -8.2886, -11.9841, -12.2342],\n",
      "        [-14.2987, -10.2051, -15.6208,  -6.6580,  -8.9719,  -0.0017,\n",
      "         -12.2581,  -8.4530, -11.9830, -12.4108],\n",
      "        [-14.5434, -10.5188, -15.9400,  -6.8849,  -9.0038,  -0.0013,\n",
      "         -12.4576,  -8.7485, -12.1625, -12.6143],\n",
      "        [-14.3349, -10.3960, -15.7405,  -6.6539,  -8.8865,  -0.0017,\n",
      "         -12.2276,  -8.5026, -12.0664, -12.3103],\n",
      "        [-14.3700, -10.4459, -15.7812,  -6.6880,  -8.9521,  -0.0016,\n",
      "         -12.4139,  -8.4556, -12.0949, -12.4365],\n",
      "        [-14.4150, -10.3495, -15.8239,  -6.8990,  -8.7177,  -0.0014,\n",
      "         -12.3829,  -8.7762, -12.0136, -12.3939],\n",
      "        [-14.3751, -10.5438, -15.6873,  -6.6751,  -8.8897,  -0.0017,\n",
      "         -12.2133,  -8.4001, -12.2494, -12.4182],\n",
      "        [-14.5160, -10.4819, -16.0064,  -6.7867,  -8.9625,  -0.0015,\n",
      "         -12.4278,  -8.6850, -12.1228, -12.5049],\n",
      "        [-14.4044, -10.3541, -15.6715,  -6.4282,  -8.6140,  -0.0020,\n",
      "         -12.2861,  -8.5487, -11.9544, -12.3657],\n",
      "        [-14.3775, -10.7085, -15.8473,  -6.7318,  -8.8804,  -0.0015,\n",
      "         -12.2262,  -8.6881, -12.1155, -12.3946],\n",
      "        [-14.2765, -10.4220, -15.8488,  -6.7236,  -8.8076,  -0.0016,\n",
      "         -12.3277,  -8.6331, -11.9487, -12.3663],\n",
      "        [-14.2061, -10.2620, -15.4121,  -6.6721,  -8.6097,  -0.0017,\n",
      "         -12.0312,  -8.5922, -11.9277, -12.0207],\n",
      "        [-14.3964, -10.4065, -15.6702,  -6.6527,  -8.9667,  -0.0017,\n",
      "         -12.3018,  -8.4174, -11.8929, -12.2649],\n",
      "        [-14.2070, -10.4316, -15.6244,  -6.6041,  -8.8971,  -0.0017,\n",
      "         -12.2667,  -8.6336, -11.8594, -12.3689],\n",
      "        [-14.4768, -10.4649, -15.8798,  -6.7654,  -8.9695,  -0.0015,\n",
      "         -12.2911,  -8.6406, -12.1562, -12.6478],\n",
      "        [-14.5464, -10.5709, -15.7243,  -6.8266,  -8.9146,  -0.0014,\n",
      "         -12.3643,  -8.6941, -12.1136, -12.3955],\n",
      "        [-14.3766, -10.5955, -15.8154,  -6.7277,  -8.8485,  -0.0015,\n",
      "         -12.2307,  -8.6999, -12.0472, -12.4557],\n",
      "        [-14.3679, -10.4103, -15.8536,  -6.8301,  -8.9553,  -0.0014,\n",
      "         -12.3291,  -8.7371, -12.0263, -12.4100],\n",
      "        [-14.4148, -10.4315, -15.7244,  -6.5150,  -8.8894,  -0.0019,\n",
      "         -12.3362,  -8.5999, -11.8157, -12.2558],\n",
      "        [-14.3610, -10.3837, -15.6595,  -6.7176,  -8.7834,  -0.0016,\n",
      "         -12.3566,  -8.6645, -11.8822, -12.4153],\n",
      "        [-14.6407, -10.6335, -15.9020,  -6.9567,  -9.0869,  -0.0012,\n",
      "         -12.4733,  -8.8577, -12.2242, -12.5767],\n",
      "        [-14.1413, -10.1765, -15.4486,  -6.3926,  -8.6737,  -0.0021,\n",
      "         -12.3189,  -8.3156, -11.6744, -12.2581],\n",
      "        [-14.5203, -10.5543, -15.5311,  -6.7482,  -8.9058,  -0.0015,\n",
      "         -12.1532,  -8.6458, -12.1711, -12.4287],\n",
      "        [-14.3944, -10.5038, -15.7231,  -6.7960,  -9.0336,  -0.0015,\n",
      "         -12.1759,  -8.6487, -12.1601, -12.3710],\n",
      "        [-14.5806, -10.5678, -15.8247,  -6.8572,  -9.0015,  -0.0014,\n",
      "         -12.3791,  -8.7463, -12.1840, -12.5730],\n",
      "        [-14.6281, -10.5369, -15.5991,  -6.5674,  -8.9549,  -0.0018,\n",
      "         -12.3748,  -8.4993, -12.1904, -12.3916],\n",
      "        [-14.2232, -10.3323, -15.5774,  -6.6820,  -8.7027,  -0.0016,\n",
      "         -12.0420,  -8.6624, -12.0560, -12.1363],\n",
      "        [-14.4916, -10.3884, -15.7730,  -6.7141,  -8.8621,  -0.0016,\n",
      "         -12.4734,  -8.6381, -11.8955, -12.5279],\n",
      "        [-14.2434, -10.2885, -15.4749,  -6.3893,  -8.7792,  -0.0022,\n",
      "         -12.1733,  -8.2081, -11.8879, -12.0719],\n",
      "        [-14.4403, -10.5150, -15.5113,  -6.6602,  -8.8997,  -0.0017,\n",
      "         -12.4310,  -8.4815, -12.0591, -12.5236],\n",
      "        [-14.0638, -10.2932, -15.4713,  -6.4877,  -8.8042,  -0.0020,\n",
      "         -12.1003,  -8.1801, -12.0103, -12.0999],\n",
      "        [-14.4478, -10.4286, -15.8989,  -6.7060,  -8.9546,  -0.0016,\n",
      "         -12.4299,  -8.6406, -11.9249, -12.7015],\n",
      "        [-14.3654, -10.3822, -15.5600,  -6.4767,  -8.7731,  -0.0020,\n",
      "         -12.3026,  -8.2608, -12.0833, -12.3398],\n",
      "        [-14.7203, -10.6221, -15.8465,  -6.8147,  -8.9557,  -0.0014,\n",
      "         -12.5189,  -8.8468, -12.0676, -12.3733],\n",
      "        [-14.3907, -10.4718, -15.7241,  -6.7507,  -8.9450,  -0.0015,\n",
      "         -12.2684,  -8.6845, -12.0827, -12.3120],\n",
      "        [-14.1811, -10.2258, -15.3522,  -6.5122,  -8.6755,  -0.0020,\n",
      "         -12.1705,  -8.2249, -11.6544, -12.1181],\n",
      "        [-14.4025, -10.4404, -15.7544,  -6.8109,  -8.9771,  -0.0015,\n",
      "         -12.1731,  -8.6120, -12.3156, -12.6768],\n",
      "        [-14.4334, -10.4012, -15.5031,  -6.5402,  -8.6988,  -0.0019,\n",
      "         -12.4029,  -8.4381, -11.8502, -12.4518],\n",
      "        [-14.2000, -10.2637, -15.5987,  -6.7041,  -8.7281,  -0.0016,\n",
      "         -12.2939,  -8.5917, -11.8836, -12.3044],\n",
      "        [-14.2003, -10.4510, -15.7191,  -7.0369,  -9.0912,  -0.0012,\n",
      "         -12.1422,  -8.7411, -12.2001, -12.6065]])\n",
      "tensor(10.7325)\n"
     ]
    }
   ],
   "source": [
    "# TODO: Build a feed-forward network\n",
    "model = nn.Sequential(nn.Linear(784,128),\n",
    "                      nn.LogSoftmax(dim=1),\n",
    "                      nn.Linear(128, 64),\n",
    "                      nn.LogSoftmax(dim=1),\n",
    "                      nn.Linear(64,10),\n",
    "                      nn.LogSoftmax(dim=1))\n",
    "\n",
    "# TODO: Define the loss\n",
    "criterion = nn.CrossEntropyLoss()\n",
    "\n",
    "### Run this to check your work\n",
    "# Get our data\n",
    "images, labels = next(iter(trainloader))\n",
    "# Flatten images\n",
    "images = images.view(images.shape[0], -1)\n",
    "print (labels)\n",
    "# Forward pass, get our logits\n",
    "logits = model(images)\n",
    "print(logits)\n",
    "# Calculate the loss with the logits and the labels\n",
    "loss = criterion(logits, labels)\n",
    "\n",
    "print(loss)"
   ]
  },
  {
   "cell_type": "markdown",
   "metadata": {},
   "source": [
    "## Autograd\n",
    "\n",
    "Now that we know how to calculate a loss, how do we use it to perform backpropagation? Torch provides a module, `autograd`, for automatically calculating the gradients of tensors. We can use it to calculate the gradients of all our parameters with respect to the loss. Autograd works by keeping track of operations performed on tensors, then going backwards through those operations, calculating gradients along the way. To make sure PyTorch keeps track of operations on a tensor and calculates the gradients, you need to set `requires_grad = True` on a tensor. You can do this at creation with the `requires_grad` keyword, or at any time with `x.requires_grad_(True)`.\n",
    "\n",
    "You can turn off gradients for a block of code with the `torch.no_grad()` content:\n",
    "```python\n",
    "x = torch.zeros(1, requires_grad=True)\n",
    ">>> with torch.no_grad():\n",
    "...     y = x * 2\n",
    ">>> y.requires_grad\n",
    "False\n",
    "```\n",
    "\n",
    "Also, you can turn on or off gradients altogether with `torch.set_grad_enabled(True|False)`.\n",
    "\n",
    "The gradients are computed with respect to some variable `z` with `z.backward()`. This does a backward pass through the operations that created `z`."
   ]
  },
  {
   "cell_type": "code",
   "execution_count": 9,
   "metadata": {},
   "outputs": [
    {
     "name": "stdout",
     "output_type": "stream",
     "text": [
      "tensor([[-2.1346,  0.1468],\n",
      "        [-0.2148,  0.5279]])\n"
     ]
    }
   ],
   "source": [
    "x = torch.randn(2,2, requires_grad=True)\n",
    "print(x)"
   ]
  },
  {
   "cell_type": "code",
   "execution_count": 10,
   "metadata": {},
   "outputs": [
    {
     "name": "stdout",
     "output_type": "stream",
     "text": [
      "tensor([[ 4.5565,  0.0216],\n",
      "        [ 0.0462,  0.2787]])\n"
     ]
    }
   ],
   "source": [
    "y = x**2\n",
    "print(y)"
   ]
  },
  {
   "cell_type": "markdown",
   "metadata": {},
   "source": [
    "Below we can see the operation that created `y`, a power operation `PowBackward0`."
   ]
  },
  {
   "cell_type": "code",
   "execution_count": 11,
   "metadata": {},
   "outputs": [
    {
     "name": "stdout",
     "output_type": "stream",
     "text": [
      "<PowBackward0 object at 0x7f17f4f97c50>\n"
     ]
    }
   ],
   "source": [
    "## grad_fn shows the function that generated this variable\n",
    "print(y.grad_fn)"
   ]
  },
  {
   "cell_type": "markdown",
   "metadata": {},
   "source": [
    "The autograd module keeps track of these operations and knows how to calculate the gradient for each one. In this way, it's able to calculate the gradients for a chain of operations, with respect to any one tensor. Let's reduce the tensor `y` to a scalar value, the mean."
   ]
  },
  {
   "cell_type": "code",
   "execution_count": 12,
   "metadata": {},
   "outputs": [
    {
     "name": "stdout",
     "output_type": "stream",
     "text": [
      "tensor(1.2257)\n"
     ]
    }
   ],
   "source": [
    "z = y.mean()\n",
    "print(z)"
   ]
  },
  {
   "cell_type": "markdown",
   "metadata": {},
   "source": [
    "You can check the gradients for `x` and `y` but they are empty currently."
   ]
  },
  {
   "cell_type": "code",
   "execution_count": null,
   "metadata": {},
   "outputs": [],
   "source": [
    "print(x.grad)"
   ]
  },
  {
   "cell_type": "markdown",
   "metadata": {},
   "source": [
    "To calculate the gradients, you need to run the `.backward` method on a Variable, `z` for example. This will calculate the gradient for `z` with respect to `x`\n",
    "\n",
    "$$\n",
    "\\frac{\\partial z}{\\partial x} = \\frac{\\partial}{\\partial x}\\left[\\frac{1}{n}\\sum_i^n x_i^2\\right] = \\frac{x}{2}\n",
    "$$"
   ]
  },
  {
   "cell_type": "code",
   "execution_count": null,
   "metadata": {},
   "outputs": [],
   "source": [
    "z.backward()\n",
    "print(x.grad)\n",
    "print(x/2)"
   ]
  },
  {
   "cell_type": "markdown",
   "metadata": {},
   "source": [
    "These gradients calculations are particularly useful for neural networks. For training we need the gradients of the cost with respect to the weights. With PyTorch, we run data forward through the network to calculate the loss, then, go backwards to calculate the gradients with respect to the loss. Once we have the gradients we can make a gradient descent step. "
   ]
  },
  {
   "cell_type": "markdown",
   "metadata": {},
   "source": [
    "## Loss and Autograd together\n",
    "\n",
    "When we create a network with PyTorch, all of the parameters are initialized with `requires_grad = True`. This means that when we calculate the loss and call `loss.backward()`, the gradients for the parameters are calculated. These gradients are used to update the weights with gradient descent. Below you can see an example of calculating the gradients using a backwards pass."
   ]
  },
  {
   "cell_type": "code",
   "execution_count": null,
   "metadata": {},
   "outputs": [],
   "source": [
    "# Build a feed-forward network\n",
    "model = nn.Sequential(nn.Linear(784, 128),\n",
    "                      nn.ReLU(),\n",
    "                      nn.Linear(128, 64),\n",
    "                      nn.ReLU(),\n",
    "                      nn.Linear(64, 10),\n",
    "                      nn.LogSoftmax(dim=1))\n",
    "\n",
    "criterion = nn.NLLLoss()\n",
    "images, labels = next(iter(trainloader))\n",
    "images = images.view(images.shape[0], -1)\n",
    "\n",
    "logits = model(images)\n",
    "loss = criterion(logits, labels)"
   ]
  },
  {
   "cell_type": "code",
   "execution_count": null,
   "metadata": {},
   "outputs": [],
   "source": [
    "print('Before backward pass: \\n', model[0].weight.grad)\n",
    "\n",
    "loss.backward()\n",
    "\n",
    "print('After backward pass: \\n', model[0].weight.grad)"
   ]
  },
  {
   "cell_type": "markdown",
   "metadata": {},
   "source": [
    "## Training the network!\n",
    "\n",
    "There's one last piece we need to start training, an optimizer that we'll use to update the weights with the gradients. We get these from PyTorch's [`optim` package](https://pytorch.org/docs/stable/optim.html). For example we can use stochastic gradient descent with `optim.SGD`. You can see how to define an optimizer below."
   ]
  },
  {
   "cell_type": "code",
   "execution_count": null,
   "metadata": {},
   "outputs": [],
   "source": [
    "from torch import optim\n",
    "\n",
    "# Optimizers require the parameters to optimize and a learning rate\n",
    "optimizer = optim.SGD(model.parameters(), lr=0.01)"
   ]
  },
  {
   "cell_type": "markdown",
   "metadata": {},
   "source": [
    "Now we know how to use all the individual parts so it's time to see how they work together. Let's consider just one learning step before looping through all the data. The general process with PyTorch:\n",
    "\n",
    "* Make a forward pass through the network \n",
    "* Use the network output to calculate the loss\n",
    "* Perform a backward pass through the network with `loss.backward()` to calculate the gradients\n",
    "* Take a step with the optimizer to update the weights\n",
    "\n",
    "Below I'll go through one training step and print out the weights and gradients so you can see how it changes. Note that I have a line of code `optimizer.zero_grad()`. When you do multiple backwards passes with the same parameters, the gradients are accumulated. This means that you need to zero the gradients on each training pass or you'll retain gradients from previous training batches."
   ]
  },
  {
   "cell_type": "code",
   "execution_count": null,
   "metadata": {},
   "outputs": [],
   "source": [
    "print('Initial weights - ', model[0].weight)\n",
    "\n",
    "images, labels = next(iter(trainloader))\n",
    "images.resize_(64, 784)\n",
    "\n",
    "# Clear the gradients, do this because gradients are accumulated\n",
    "optimizer.zero_grad()\n",
    "\n",
    "# Forward pass, then backward pass, then update weights\n",
    "output = model(images)\n",
    "loss = criterion(output, labels)\n",
    "loss.backward()\n",
    "print('Gradient -', model[0].weight.grad)"
   ]
  },
  {
   "cell_type": "code",
   "execution_count": null,
   "metadata": {},
   "outputs": [],
   "source": [
    "# Take an update step and few the new weights\n",
    "optimizer.step()\n",
    "print('Updated weights - ', model[0].weight)"
   ]
  },
  {
   "cell_type": "markdown",
   "metadata": {},
   "source": [
    "### Training for real\n",
    "\n",
    "Now we'll put this algorithm into a loop so we can go through all the images. Some nomenclature, one pass through the entire dataset is called an *epoch*. So here we're going to loop through `trainloader` to get our training batches. For each batch, we'll doing a training pass where we calculate the loss, do a backwards pass, and update the weights.\n",
    "\n",
    ">**Exercise:** Implement the training pass for our network. If you implemented it correctly, you should see the training loss drop with each epoch."
   ]
  },
  {
   "cell_type": "code",
   "execution_count": null,
   "metadata": {},
   "outputs": [],
   "source": [
    "## Your solution here\n",
    "\n",
    "model = nn.Sequential(nn.Linear(784, 128),\n",
    "                      nn.ReLU(),\n",
    "                      nn.Linear(128, 64),\n",
    "                      nn.ReLU(),\n",
    "                      nn.Linear(64, 10),\n",
    "                      nn.LogSoftmax(dim=1))\n",
    "\n",
    "criterion = nn.NLLLoss()\n",
    "optimizer = optim.SGD(model.parameters(), lr=0.003)\n",
    "\n",
    "epochs = 5\n",
    "for e in range(epochs):\n",
    "    running_loss = 0\n",
    "    for images, labels in trainloader:\n",
    "        # Flatten MNIST images into a 784 long vector\n",
    "        images = images.view(images.shape[0], -1)\n",
    "    \n",
    "        # TODO: Training pass\n",
    "        \n",
    "        loss = \n",
    "        \n",
    "        running_loss += loss.item()\n",
    "    else:\n",
    "        print(f\"Training loss: {running_loss/len(trainloader)}\")"
   ]
  },
  {
   "cell_type": "markdown",
   "metadata": {},
   "source": [
    "With the network trained, we can check out it's predictions."
   ]
  },
  {
   "cell_type": "code",
   "execution_count": null,
   "metadata": {},
   "outputs": [],
   "source": [
    "%matplotlib inline\n",
    "import helper\n",
    "\n",
    "images, labels = next(iter(trainloader))\n",
    "\n",
    "img = images[0].view(1, 784)\n",
    "# Turn off gradients to speed up this part\n",
    "with torch.no_grad():\n",
    "    logps = model(img)\n",
    "\n",
    "# Output of the network are log-probabilities, need to take exponential for probabilities\n",
    "ps = torch.exp(logps)\n",
    "helper.view_classify(img.view(1, 28, 28), ps)"
   ]
  },
  {
   "cell_type": "markdown",
   "metadata": {},
   "source": [
    "Now our network is brilliant. It can accurately predict the digits in our images. Next up you'll write the code for training a neural network on a more complex dataset."
   ]
  }
 ],
 "metadata": {
  "kernelspec": {
   "display_name": "Python 3",
   "language": "python",
   "name": "python3"
  },
  "language_info": {
   "codemirror_mode": {
    "name": "ipython",
    "version": 3
   },
   "file_extension": ".py",
   "mimetype": "text/x-python",
   "name": "python",
   "nbconvert_exporter": "python",
   "pygments_lexer": "ipython3",
   "version": "3.6.3"
  }
 },
 "nbformat": 4,
 "nbformat_minor": 2
}
