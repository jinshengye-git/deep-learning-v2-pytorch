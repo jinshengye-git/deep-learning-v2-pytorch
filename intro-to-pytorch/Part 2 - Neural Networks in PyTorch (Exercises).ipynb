{
 "cells": [
  {
   "cell_type": "markdown",
   "metadata": {},
   "source": [
    "# Neural networks with PyTorch\n",
    "\n",
    "Deep learning networks tend to be massive with dozens or hundreds of layers, that's where the term \"deep\" comes from. You can build one of these deep networks using only weight matrices as we did in the previous notebook, but in general it's very cumbersome and difficult to implement. PyTorch has a nice module `nn` that provides a nice way to efficiently build large neural networks."
   ]
  },
  {
   "cell_type": "code",
   "execution_count": 1,
   "metadata": {},
   "outputs": [],
   "source": [
    "# Import necessary packages\n",
    "\n",
    "%matplotlib inline\n",
    "%config InlineBackend.figure_format = 'retina'\n",
    "\n",
    "import numpy as np\n",
    "import torch\n",
    "\n",
    "import helper\n",
    "\n",
    "import matplotlib.pyplot as plt"
   ]
  },
  {
   "cell_type": "markdown",
   "metadata": {},
   "source": [
    "\n",
    "Now we're going to build a larger network that can solve a (formerly) difficult problem, identifying text in an image. Here we'll use the MNIST dataset which consists of greyscale handwritten digits. Each image is 28x28 pixels, you can see a sample below\n",
    "\n",
    "<img src='assets/mnist.png'>\n",
    "\n",
    "Our goal is to build a neural network that can take one of these images and predict the digit in the image.\n",
    "\n",
    "First up, we need to get our dataset. This is provided through the `torchvision` package. The code below will download the MNIST dataset, then create training and test datasets for us. Don't worry too much about the details here, you'll learn more about this later."
   ]
  },
  {
   "cell_type": "code",
   "execution_count": 3,
   "metadata": {},
   "outputs": [],
   "source": [
    "### Run this cell\n",
    "\n",
    "from torchvision import datasets, transforms\n",
    "\n",
    "# Define a transform to normalize the data\n",
    "transform = transforms.Compose([transforms.ToTensor(),\n",
    "                              transforms.Normalize((0.5,), (0.5,)),\n",
    "                              ])\n",
    "\n",
    "# Download and load the training data\n",
    "trainset = datasets.MNIST('~/.pytorch/MNIST_data/', download=True, train=True, transform=transform)\n",
    "trainloader = torch.utils.data.DataLoader(trainset, batch_size=128, shuffle=True)"
   ]
  },
  {
   "cell_type": "markdown",
   "metadata": {},
   "source": [
    "We have the training data loaded into `trainloader` and we make that an iterator with `iter(trainloader)`. Later, we'll use this to loop through the dataset for training, like\n",
    "\n",
    "```python\n",
    "for image, label in trainloader:\n",
    "    ## do things with images and labels\n",
    "```\n",
    "\n",
    "You'll notice I created the `trainloader` with a batch size of 64, and `shuffle=True`. The batch size is the number of images we get in one iteration from the data loader and pass through our network, often called a *batch*. And `shuffle=True` tells it to shuffle the dataset every time we start going through the data loader again. But here I'm just grabbing the first batch so we can check out the data. We can see below that `images` is just a tensor with size `(64, 1, 28, 28)`. So, 64 images per batch, 1 color channel, and 28x28 images."
   ]
  },
  {
   "cell_type": "code",
   "execution_count": 4,
   "metadata": {},
   "outputs": [
    {
     "name": "stdout",
     "output_type": "stream",
     "text": [
      "<class 'torch.Tensor'>\n",
      "torch.Size([128, 1, 28, 28])\n",
      "torch.Size([128])\n"
     ]
    }
   ],
   "source": [
    "dataiter = iter(trainloader)\n",
    "images, labels = dataiter.next()\n",
    "print(type(images))\n",
    "print(images.shape)\n",
    "print(labels.shape)"
   ]
  },
  {
   "cell_type": "markdown",
   "metadata": {},
   "source": [
    "This is what one of the images looks like. "
   ]
  },
  {
   "cell_type": "code",
   "execution_count": 7,
   "metadata": {},
   "outputs": [
    {
     "data": {
      "image/png": "[encoded data removed]",
      "text/plain": [
       "<Figure size 432x288 with 1 Axes>"
      ]
     },
     "metadata": {
      "image/png": {
       "height": 248,
       "width": 251
      },
      "needs_background": "light"
     },
     "output_type": "display_data"
    }
   ],
   "source": [
    "plt.imshow(images[6].numpy().squeeze(), cmap='Greys_r');"
   ]
  },
  {
   "cell_type": "markdown",
   "metadata": {},
   "source": [
    "First, let's try to build a simple network for this dataset using weight matrices and matrix multiplications. Then, we'll see how to do it using PyTorch's `nn` module which provides a much more convenient and powerful method for defining network architectures.\n",
    "\n",
    "The networks you've seen so far are called *fully-connected* or *dense* networks. Each unit in one layer is connected to each unit in the next layer. In fully-connected networks, the input to each layer must be a one-dimensional vector (which can be stacked into a 2D tensor as a batch of multiple examples). However, our images are 28x28 2D tensors, so we need to convert them into 1D vectors. Thinking about sizes, we need to convert the batch of images with shape `(64, 1, 28, 28)` to a have a shape of `(64, 784)`, 784 is 28 times 28. This is typically called *flattening*, we flattened the 2D images into 1D vectors.\n",
    "\n",
    "Previously you built a network with one output unit. Here we need 10 output units, one for each digit. We want our network to predict the digit shown in an image, so what we'll do is calculate probabilities that the image is of any one digit or class. This ends up being a discrete probability distribution over the classes (digits) that tells us the most likely class for the image. That means we need 10 output units for the 10 classes (digits). We'll see how to convert the network output into a probability distribution next.\n",
    "\n",
    "> **Exercise:** Flatten the batch of images `images`. Then build a multi-layer network with 784 input units, 256 hidden units, and 10 output units using random tensors for the weights and biases. For now, use a sigmoid activation for the hidden layer. Leave the output layer without an activation, we'll add one that gives us a probability distribution next."
   ]
  },
  {
   "cell_type": "code",
   "execution_count": 9,
   "metadata": {},
   "outputs": [
    {
     "name": "stdout",
     "output_type": "stream",
     "text": [
      "torch.Size([128, 784])\n"
     ]
    }
   ],
   "source": [
    "## Your solution\n",
    "def activation(x):\n",
    "    return 1/(1+torch.exp(-x))\n",
    "\n",
    "# Flatten the input images\n",
    "inputs = images.view(images.shape[0], -1)\n",
    "print(inputs.shape)\n",
    "\n",
    "# Create parameters\n",
    "w1 = torch.randn(784, 256)\n",
    "b1 = torch.randn(256)\n",
    "\n",
    "w2 = torch.randn(256, 10)\n",
    "b2 = torch.randn(10)\n",
    "\n",
    "h = activation(torch.mm(inputs, w1) + b1)\n",
    "\n",
    "out = torch.mm(h, w2) + b2\n",
    "\n"
   ]
  },
  {
   "cell_type": "markdown",
   "metadata": {},
   "source": [
    "Now we have 10 outputs for our network. We want to pass in an image to our network and get out a probability distribution over the classes that tells us the likely class(es) the image belongs to. Something that looks like this:\n",
    "<img src='assets/image_distribution.png' width=500px>\n",
    "\n",
    "Here we see that the probability for each class is roughly the same. This is representing an untrained network, it hasn't seen any data yet so it just returns a uniform distribution with equal probabilities for each class.\n",
    "\n",
    "To calculate this probability distribution, we often use the [**softmax** function](https://en.wikipedia.org/wiki/Softmax_function). Mathematically this looks like\n",
    "\n",
    "$$\n",
    "\\Large \\sigma(x_i) = \\cfrac{e^{x_i}}{\\sum_k^K{e^{x_k}}}\n",
    "$$\n",
    "\n",
    "What this does is squish each input $x_i$ between 0 and 1 and normalizes the values to give you a proper probability distribution where the probabilites sum up to one.\n",
    "\n",
    "> **Exercise:** Implement a function `softmax` that performs the softmax calculation and returns probability distributions for each example in the batch. Note that you'll need to pay attention to the shapes when doing this. If you have a tensor `a` with shape `(64, 10)` and a tensor `b` with shape `(64,)`, doing `a/b` will give you an error because PyTorch will try to do the division across the columns (called broadcasting) but you'll get a size mismatch. The way to think about this is for each of the 64 examples, you only want to divide by one value, the sum in the denominator. So you need `b` to have a shape of `(64, 1)`. This way PyTorch will divide the 10 values in each row of `a` by the one value in each row of `b`. Pay attention to how you take the sum as well. You'll need to define the `dim` keyword in `torch.sum`. Setting `dim=0` takes the sum across the rows while `dim=1` takes the sum across the columns."
   ]
  },
  {
   "cell_type": "code",
   "execution_count": 10,
   "metadata": {},
   "outputs": [
    {
     "name": "stdout",
     "output_type": "stream",
     "text": [
      "torch.Size([128, 10])\n",
      "tensor([ 5.1575e-03,  2.0139e-05,  9.2200e-05,  4.4176e-03,  5.3190e-03,\n",
      "         6.4140e-04,  1.8421e-04,  9.2106e-01,  1.4855e-01,  1.4007e-03,\n",
      "         1.4162e-01,  6.6154e-03,  1.6603e-03,  9.5114e-04,  6.8807e-04,\n",
      "         1.5016e-02,  9.3745e-03,  1.0421e-02,  8.8257e-04,  8.8010e-01,\n",
      "         9.1630e-03,  1.1395e-04,  1.3462e-03,  5.7692e-03,  2.2453e-03,\n",
      "         3.6071e-01,  7.8689e-03,  1.1614e-04,  3.0600e-02,  4.6574e-02,\n",
      "         8.8456e-04,  2.9827e-01,  8.6576e-02,  7.6793e-02,  9.5055e-04,\n",
      "         1.0742e-02,  3.2127e-02,  1.7533e-05,  8.8886e-04,  4.5566e-04,\n",
      "         6.6091e-01,  3.1882e-02,  2.4363e-02,  9.5688e-03,  1.3705e-03,\n",
      "         9.0625e-03,  1.0077e-03,  2.2319e-01,  3.1738e-01,  1.3461e-03,\n",
      "         5.5126e-04,  9.1681e-03,  6.7749e-03,  6.9313e-02,  3.9015e-03,\n",
      "         4.7012e-03,  2.1789e-05,  8.4248e-06,  1.2062e-02,  4.2020e-04,\n",
      "         3.8901e-01,  3.2199e-01,  1.8841e-03,  4.1719e-03,  1.6609e-03,\n",
      "         2.9849e-03,  2.1100e-03,  7.1594e-01,  1.3305e-01,  9.5057e-04,\n",
      "         1.9709e-01,  3.4854e-03,  2.6264e-03,  1.5383e-03,  9.4259e-02,\n",
      "         2.6611e-04,  1.1976e-04,  7.5169e-03,  1.1971e-01,  5.5887e-03,\n",
      "         1.2518e-03,  2.9442e-03,  8.0144e-01,  6.5232e-04,  1.3160e-02,\n",
      "         2.5832e-04,  3.6786e-03,  7.2935e-04,  7.1969e-02,  4.7084e-02,\n",
      "         3.9337e-01,  2.3571e-03,  1.0747e-02,  8.6524e-05,  1.5686e-01,\n",
      "         6.3216e-03,  2.3854e-02,  1.5840e-03,  1.7034e-04,  4.7620e-02,\n",
      "         3.5307e-02,  1.7165e-03,  2.5232e-02,  6.9046e-04,  1.6947e-03,\n",
      "         5.9226e-05,  4.5672e-02,  1.6528e-01,  1.6874e-03,  5.5181e-05,\n",
      "         1.3754e-02,  5.9232e-02,  4.9548e-05,  4.7286e-03,  1.2002e-01,\n",
      "         1.1003e-03,  1.3838e-01,  1.4279e-02,  4.2139e-02,  9.9164e-04,\n",
      "         3.7627e-04,  2.4825e-01,  9.3286e-05,  9.4788e-01,  6.4322e-03,\n",
      "         7.9647e-03,  8.1620e-03,  3.2968e-03])\n"
     ]
    }
   ],
   "source": [
    "def softmax(x):\n",
    "    ## TODO: Implement the softmax function here\n",
    "    return torch.exp(x)/sum(torch.exp(x))\n",
    "    \n",
    "    \n",
    "    \n",
    "    \n",
    "# Here, out should be the output of the network in the previous excercise with shape (64,10)\n",
    "probabilities = softmax(out)\n",
    "\n",
    "# Does it have the right shape? Should be (64, 10)\n",
    "print(probabilities.shape)\n",
    "# Does it sum to 1?\n",
    "print(probabilities.sum(dim=1))\n"
   ]
  },
  {
   "cell_type": "markdown",
   "metadata": {},
   "source": [
    "## Building networks with PyTorch\n",
    "\n",
    "PyTorch provides a module `nn` that makes building networks much simpler. Here I'll show you how to build the same one as above with 784 inputs, 256 hidden units, 10 output units and a softmax output."
   ]
  },
  {
   "cell_type": "code",
   "execution_count": 11,
   "metadata": {},
   "outputs": [],
   "source": [
    "from torch import nn"
   ]
  },
  {
   "cell_type": "code",
   "execution_count": 23,
   "metadata": {},
   "outputs": [],
   "source": [
    "class Network(nn.Module):\n",
    "    def __init__(self):\n",
    "        super().__init__()\n",
    "        \n",
    "        # Inputs to hidden layer linear transformation\n",
    "        self.hidden1 = nn.Linear(784, 256)\n",
    "        self.hidden2 = nn.ReLU()\n",
    "        self.hidden3 = nn.Linear(256,512)\n",
    "        self.hidden4 = nn.Linear(512,64)\n",
    "        self.hidden5 = nn.ReLU()\n",
    "        self.hidden6 = nn.Linear(64,256)\n",
    "        self.hidden7 = nn.ReLU()\n",
    "        # Output layer, 10 units - one for each digit\n",
    "        self.output = nn.Linear(256, 10)\n",
    "        \n",
    "        # Define sigmoid activation and softmax output \n",
    "        self.sigmoid = nn.Sigmoid()\n",
    "        self.softmax = nn.Softmax(dim=1)\n",
    "        \n",
    "    def forward(self, x):\n",
    "        # Pass the input tensor through each of our operations\n",
    "        x = self.hidden1(x)\n",
    "        x = self.hidden2(x)\n",
    "        x = self.hidden3(x)\n",
    "        x = self.hidden4(x)\n",
    "        x = self.hidden5(x)\n",
    "        x = self.hidden6(x)\n",
    "        x = self.hidden7(x)\n",
    "        x = self.sigmoid(x)\n",
    "        x = self.output(x)\n",
    "        x = self.softmax(x)\n",
    "        \n",
    "        return x"
   ]
  },
  {
   "cell_type": "markdown",
   "metadata": {},
   "source": [
    "Let's go through this bit by bit.\n",
    "\n",
    "```python\n",
    "class Network(nn.Module):\n",
    "```\n",
    "\n",
    "Here we're inheriting from `nn.Module`. Combined with `super().__init__()` this creates a class that tracks the architecture and provides a lot of useful methods and attributes. It is mandatory to inherit from `nn.Module` when you're creating a class for your network. The name of the class itself can be anything.\n",
    "\n",
    "```python\n",
    "self.hidden = nn.Linear(784, 256)\n",
    "```\n",
    "\n",
    "This line creates a module for a linear transformation, $x\\mathbf{W} + b$, with 784 inputs and 256 outputs and assigns it to `self.hidden`. The module automatically creates the weight and bias tensors which we'll use in the `forward` method. You can access the weight and bias tensors once the network (`net`) is created with `net.hidden.weight` and `net.hidden.bias`.\n",
    "\n",
    "```python\n",
    "self.output = nn.Linear(256, 10)\n",
    "```\n",
    "\n",
    "Similarly, this creates another linear transformation with 256 inputs and 10 outputs.\n",
    "\n",
    "```python\n",
    "self.sigmoid = nn.Sigmoid()\n",
    "self.softmax = nn.Softmax(dim=1)\n",
    "```\n",
    "\n",
    "Here I defined operations for the sigmoid activation and softmax output. Setting `dim=1` in `nn.Softmax(dim=1)` calculates softmax across the columns.\n",
    "\n",
    "```python\n",
    "def forward(self, x):\n",
    "```\n",
    "\n",
    "PyTorch networks created with `nn.Module` must have a `forward` method defined. It takes in a tensor `x` and passes it through the operations you defined in the `__init__` method.\n",
    "\n",
    "```python\n",
    "x = self.hidden(x)\n",
    "x = self.sigmoid(x)\n",
    "x = self.output(x)\n",
    "x = self.softmax(x)\n",
    "```\n",
    "\n",
    "Here the input tensor `x` is passed through each operation and reassigned to `x`. We can see that the input tensor goes through the hidden layer, then a sigmoid function, then the output layer, and finally the softmax function. It doesn't matter what you name the variables here, as long as the inputs and outputs of the operations match the network architecture you want to build. The order in which you define things in the `__init__` method doesn't matter, but you'll need to sequence the operations correctly in the `forward` method.\n",
    "\n",
    "Now we can create a `Network` object."
   ]
  },
  {
   "cell_type": "code",
   "execution_count": 26,
   "metadata": {},
   "outputs": [
    {
     "name": "stdout",
     "output_type": "stream",
     "text": [
      "Parameter containing:\n",
      "tensor(1.00000e-02 *\n",
      "       [ 3.7391, -0.2069,  5.5341, -5.8825,  3.6188,  0.4095,  4.6526,\n",
      "        -6.1069, -2.0586,  0.8905, -1.1578, -4.9676, -1.4309,  1.1008,\n",
      "         4.9950, -1.3660, -3.6612,  6.0424, -5.3156, -2.8098,  3.6584,\n",
      "         4.8721,  0.1742,  5.7044, -5.1017, -4.9254,  0.6820,  4.1929,\n",
      "        -0.6443, -5.4466, -6.1461,  4.4756, -0.5322,  4.1812, -2.0797,\n",
      "        -1.4068,  0.2076,  0.4579, -5.0549,  0.5062, -0.5177, -1.1575,\n",
      "         5.8883,  3.3925, -0.5548,  1.0444, -0.0412,  2.9296, -1.4536,\n",
      "         5.3933, -2.3841,  3.6981,  5.3190, -4.4046, -5.9460,  3.2525,\n",
      "         0.0341, -5.2072,  1.5383,  2.2395,  2.9898, -0.1399, -6.0393,\n",
      "         5.4098,  1.6639, -4.9253,  3.8623, -4.5413,  2.2717,  1.6256,\n",
      "        -0.4488,  1.8280,  5.4797, -5.6099, -5.5148,  3.5049, -5.2784,\n",
      "         1.2481, -0.5902,  3.0069, -2.4005, -1.2117, -1.0882,  2.4931,\n",
      "        -5.8999, -1.0773,  1.1217, -1.4741, -2.6800,  4.0005, -1.1689,\n",
      "         1.1036, -2.2053,  4.1031,  1.9643,  2.7354, -2.9848,  4.5166,\n",
      "         2.3549,  4.5474,  0.0517, -2.4856, -1.5648, -0.7154, -1.9797,\n",
      "        -4.8354,  3.9201, -3.6853,  1.8636,  5.3654, -2.6046, -2.4201,\n",
      "         1.1890, -5.6568,  3.4568,  2.5714, -3.6155,  0.8031,  5.8874,\n",
      "         4.5960,  1.5148, -0.3508, -3.4532,  1.1674,  3.7931, -3.1070,\n",
      "         5.6415, -4.7017, -3.6376,  5.2959,  5.2281,  1.7291, -6.1161,\n",
      "        -1.1673, -4.4011,  2.0206, -1.3400, -3.6327,  3.8298, -0.8325,\n",
      "         5.9868,  0.8725,  4.1845, -4.6936,  1.4357,  6.0900, -1.1744,\n",
      "        -4.0805, -1.8699,  4.0672, -1.4478,  5.9638, -1.2116,  6.1353,\n",
      "        -3.2570, -4.7003, -2.5481,  5.0384, -2.0929,  0.5892,  2.1004,\n",
      "        -6.0998, -0.1397, -0.7575,  3.1276, -0.4174,  3.9492, -2.2407,\n",
      "         5.1890,  2.3380, -1.6440,  1.3449, -2.0494,  0.7911,  3.9610,\n",
      "        -1.8137,  3.5011,  2.6651,  3.7227,  5.7259,  5.3516, -0.9162,\n",
      "         3.4487, -4.5082, -0.6297, -5.2763, -5.7947, -0.1337, -4.2461,\n",
      "        -1.0970, -3.2930, -2.2057, -0.6865,  2.5817, -0.4271,  3.2972,\n",
      "        -2.6410,  0.4141,  0.7027,  0.5774, -0.5486,  3.9239,  0.7951,\n",
      "        -4.1607,  2.5543,  4.9272,  4.0778,  4.7788,  3.2580,  2.0842,\n",
      "        -0.3310,  4.4370, -3.0492, -4.0411, -2.1038,  5.2787,  2.9561,\n",
      "        -1.8292, -3.7904, -5.0885, -5.4533, -0.7267,  5.7957,  5.7883,\n",
      "         1.7413,  4.4892, -5.3615, -4.7948, -4.8245, -5.0128,  2.8780,\n",
      "         4.1403, -3.1821,  2.8981,  0.9056,  5.8193, -2.6209,  2.7466,\n",
      "        -5.9461, -0.7739, -1.3498,  6.0490,  2.6265,  1.3433,  3.7970,\n",
      "        -3.1571,  5.5823, -6.1370,  4.2268, -5.5043, -3.6777,  0.5196,\n",
      "        -5.1245, -0.9402,  2.0600, -5.4086, -2.0978, -0.1387, -3.6033,\n",
      "         1.3542,  3.8146,  5.5759, -2.4052,  0.2302, -0.4766, -5.3220,\n",
      "         1.6608, -2.0783, -1.8349, -1.0161, -3.0224,  2.4386,  3.3758,\n",
      "         1.1194, -2.2700, -1.6968,  3.8903,  1.2994, -2.5161,  0.6441,\n",
      "        -5.4479,  0.2231, -4.6961, -1.4191,  2.0768,  4.5724,  0.1247,\n",
      "        -4.5389, -3.9314,  0.2888,  4.6202,  0.7359,  3.4915,  4.4097,\n",
      "         3.0732, -2.2771, -3.0358, -4.2754,  0.4160, -0.5716, -4.7810,\n",
      "         3.3193, -3.6196, -1.9408, -0.3532, -1.6246, -3.6311, -4.6943,\n",
      "         5.2438, -1.2047,  4.1278, -0.1150, -0.3249, -5.8516, -0.1446,\n",
      "        -5.5808,  5.6145,  2.9858, -2.1756,  6.1158, -2.5153, -5.5069,\n",
      "        -4.7989, -5.3220,  1.2993, -3.1481,  4.5967,  0.7603, -5.3982,\n",
      "        -3.6756, -2.3786, -0.1071,  0.2818, -4.6357, -5.3938,  5.8410,\n",
      "         1.8498,  2.0084, -5.1605,  3.6164, -2.3985, -1.3874,  5.4022,\n",
      "         1.1025,  3.9195,  2.5033, -5.8267, -2.2250, -6.1184,  2.6120,\n",
      "        -0.1524, -6.1301,  2.6309, -2.6124, -3.6091, -2.3199,  3.4512,\n",
      "         3.5654, -5.7980, -1.2943, -1.0014, -4.1361,  1.2687, -0.3582,\n",
      "         0.5325,  5.9906,  3.2908,  2.9080, -3.1429, -0.8693,  0.6144,\n",
      "         6.0668, -0.8994, -1.2535,  4.0339, -2.2540,  5.9246, -4.5520,\n",
      "        -3.6302,  2.6967, -2.6655,  1.6698,  2.5121,  5.4470,  1.3058,\n",
      "        -3.4024, -2.0146, -2.4053,  1.7897,  0.9976,  4.1120,  1.9327,\n",
      "         2.2166,  5.3269, -3.7023,  1.2160, -0.4951, -2.7103,  5.7778,\n",
      "        -1.6982, -1.1329,  1.0433,  1.8259, -2.0347, -5.2163, -4.6874,\n",
      "         2.9783,  1.5243,  4.7368, -3.7819,  1.5835, -5.0333,  3.1139,\n",
      "        -6.0497,  1.6931, -0.0108, -3.4168,  4.2082,  2.4074,  0.7483,\n",
      "         1.8885,  4.7273,  1.3158,  0.1520, -3.3479, -5.0531,  2.2771,\n",
      "        -6.2174, -0.5171, -6.2458, -1.9010,  1.4450, -0.9166, -3.3767,\n",
      "        -0.7947,  3.2391,  1.4942,  2.2540,  1.9312,  4.9220, -0.4868,\n",
      "        -6.2208,  0.1224, -2.4364,  1.6787, -4.3939,  0.3180,  2.8384,\n",
      "         0.8960,  0.2663,  1.5184,  2.8875,  0.9562,  3.4560,  5.9334,\n",
      "         2.8609,  4.9718,  3.4619, -2.0676, -5.1906, -5.2212, -3.9048,\n",
      "        -1.7786, -2.8352, -6.2387, -2.3904,  6.1037,  4.5035,  0.3908,\n",
      "        -5.7837,  5.5677,  0.1024, -6.2031,  4.6536,  0.7545, -1.3115,\n",
      "         2.6105, -3.3236,  1.7222, -3.8254,  5.3950,  1.9108,  5.4825,\n",
      "        -0.8707, -5.5548, -0.2331,  4.6657, -2.0153,  5.9345, -5.9920,\n",
      "        -5.3035,  1.3141, -4.7740, -3.4182, -0.5263,  2.2708, -4.6935,\n",
      "        -3.1160, -5.9229,  4.8704,  4.6981,  4.6483, -2.6896,  1.5511,\n",
      "         0.2040,  0.7554, -0.6352, -4.2180,  5.6042,  5.3682,  3.5470,\n",
      "        -5.3903])\n"
     ]
    }
   ],
   "source": [
    "# Create the network and look at it's text representation\n",
    "model = Network()\n",
    "model\n",
    "print(model.hidden3.bias)"
   ]
  },
  {
   "cell_type": "markdown",
   "metadata": {},
   "source": [
    "You can define the network somewhat more concisely and clearly using the `torch.nn.functional` module. This is the most common way you'll see networks defined as many operations are simple element-wise functions. We normally import this module as `F`, `import torch.nn.functional as F`."
   ]
  },
  {
   "cell_type": "code",
   "execution_count": 14,
   "metadata": {},
   "outputs": [],
   "source": [
    "import torch.nn.functional as F\n",
    "\n",
    "class Network(nn.Module):\n",
    "    def __init__(self):\n",
    "        super().__init__()\n",
    "        # Inputs to hidden layer linear transformation\n",
    "        self.hidden = nn.Linear(784, 256)\n",
    "        # Output layer, 10 units - one for each digit\n",
    "        self.output = nn.Linear(256, 10)\n",
    "        \n",
    "    def forward(self, x):\n",
    "        # Hidden layer with sigmoid activation\n",
    "        x = F.sigmoid(self.hidden(x))\n",
    "        # Output layer with softmax activation\n",
    "        x = F.softmax(self.output(x), dim=1)\n",
    "        \n",
    "        return x"
   ]
  },
  {
   "cell_type": "markdown",
   "metadata": {},
   "source": [
    "### Activation functions\n",
    "\n",
    "So far we've only been looking at the sigmoid activation function, but in general any function can be used as an activation function. The only requirement is that for a network to approximate a non-linear function, the activation functions must be non-linear. Here are a few more examples of common activation functions: Tanh (hyperbolic tangent), and ReLU (rectified linear unit).\n",
    "\n",
    "<img src=\"assets/activation.png\" width=700px>\n",
    "\n",
    "In practice, the ReLU function is used almost exclusively as the activation function for hidden layers."
   ]
  },
  {
   "cell_type": "markdown",
   "metadata": {},
   "source": [
    "### Your Turn to Build a Network\n",
    "\n",
    "<img src=\"assets/mlp_mnist.png\" width=600px>\n",
    "\n",
    "> **Exercise:** Create a network with 784 input units, a hidden layer with 128 units and a ReLU activation, then a hidden layer with 64 units and a ReLU activation, and finally an output layer with a softmax activation as shown above. You can use a ReLU activation with the `nn.ReLU` module or `F.relu` function.\n",
    "\n",
    "It's good practice to name your layers by their type of network, for instance 'fc' to represent a fully-connected layer. As you code your solution, use `fc1`, `fc2`, and `fc3` as your layer names."
   ]
  },
  {
   "cell_type": "code",
   "execution_count": 15,
   "metadata": {
    "scrolled": true
   },
   "outputs": [
    {
     "data": {
      "text/plain": [
       "Network(\n",
       "  (fc1): Linear(in_features=784, out_features=128, bias=True)\n",
       "  (fc2): Linear(in_features=128, out_features=64, bias=True)\n",
       "  (fc3): Linear(in_features=64, out_features=10, bias=True)\n",
       ")"
      ]
     },
     "execution_count": 15,
     "metadata": {},
     "output_type": "execute_result"
    }
   ],
   "source": [
    "## Your solution here\n",
    "class Network(nn.Module):\n",
    "    def __init__(self):\n",
    "        super().__init__()\n",
    "        \n",
    "        self.fc1=nn.Linear(784,128)\n",
    "        self.fc2=nn.Linear(128,64)\n",
    "        self.fc3=nn.Linear(64,10)\n",
    "        \n",
    "    def forward(self,x):\n",
    "        x = self.fc1(x)\n",
    "        x = F.relu(x)\n",
    "        x = self.fc2(x)\n",
    "        x = F.relu(x)\n",
    "        x = self.fc3(x)\n",
    "        x = F.relu(x)\n",
    "        x = F.softmax(x,dim=1)\n",
    "        \n",
    "        return x\n",
    "\n",
    "\n",
    "model=Network()\n",
    "model"
   ]
  },
  {
   "cell_type": "markdown",
   "metadata": {},
   "source": [
    "### Initializing weights and biases\n",
    "\n",
    "The weights and such are automatically initialized for you, but it's possible to customize how they are initialized. The weights and biases are tensors attached to the layer you defined, you can get them with `model.fc1.weight` for instance."
   ]
  },
  {
   "cell_type": "code",
   "execution_count": 16,
   "metadata": {},
   "outputs": [
    {
     "name": "stdout",
     "output_type": "stream",
     "text": [
      "Parameter containing:\n",
      "tensor([[ 3.5090e-02,  1.7954e-02, -1.4211e-02,  ..., -2.8607e-02,\n",
      "          2.8870e-02,  1.8479e-02],\n",
      "        [ 2.8433e-02,  1.7063e-02, -2.3070e-02,  ..., -1.9254e-02,\n",
      "         -1.5473e-02,  1.7864e-02],\n",
      "        [ 2.7032e-02, -5.6358e-03, -8.0775e-03,  ...,  1.6815e-02,\n",
      "          6.7632e-03,  2.2327e-02],\n",
      "        ...,\n",
      "        [ 8.8017e-03, -2.5857e-02,  1.0829e-02,  ..., -3.0962e-02,\n",
      "         -1.3839e-02, -2.9462e-02],\n",
      "        [ 3.7798e-03,  2.6189e-02,  2.1625e-03,  ..., -1.1881e-02,\n",
      "          1.7215e-02, -3.3443e-02],\n",
      "        [ 2.2694e-03, -1.0622e-02, -2.7245e-02,  ...,  7.5596e-03,\n",
      "         -3.1384e-03,  2.9387e-02]])\n",
      "Parameter containing:\n",
      "tensor(1.00000e-02 *\n",
      "       [ 1.3698, -1.8148, -0.2477,  0.3552, -2.8912, -3.0430, -2.1970,\n",
      "        -2.0235,  0.7885,  2.5042,  0.0393, -3.4944,  1.3263, -0.4609,\n",
      "         1.7697,  0.0538, -1.7747,  2.4879,  2.2377,  0.4663,  0.2647,\n",
      "         2.8795,  3.0874,  1.7350,  1.5084,  0.1302, -0.5834, -1.1119,\n",
      "         0.8901,  2.1876,  0.4575, -3.4155,  3.2668, -2.0936, -1.0221,\n",
      "        -2.0540, -3.5262,  1.6499,  2.4772, -0.0616,  0.4383,  1.2044,\n",
      "        -1.0775, -0.7618, -0.6709, -3.4644, -0.1675, -2.6501,  3.0988,\n",
      "         1.6165,  2.6199, -0.2987,  2.6442,  2.2963, -1.2603,  0.2000,\n",
      "        -0.8811, -1.2783,  0.9411,  2.2923, -3.4536, -0.2892, -0.1384,\n",
      "        -0.7459, -2.4744,  3.1622,  0.6244,  2.1328, -2.5036,  0.2931,\n",
      "         1.5536,  3.1734, -1.6512,  2.1454,  0.4733,  2.7294, -0.4708,\n",
      "        -2.7452,  1.6673,  1.0426,  2.6050, -3.1622,  2.9010, -0.5826,\n",
      "         3.1487,  3.3073, -1.8411, -3.3787,  2.2368,  3.4256, -3.5649,\n",
      "        -2.7185, -3.4218, -0.6738,  0.9460,  0.5399, -0.9421, -2.7164,\n",
      "         0.5424,  3.0784,  1.1441, -2.1281,  0.6328, -1.8834,  1.8018,\n",
      "        -2.7560, -2.5533,  0.9731, -1.7376, -3.1501,  1.1390,  0.4216,\n",
      "         0.1239,  0.2691, -3.2684,  1.9950,  3.3461,  3.4695, -0.5537,\n",
      "        -1.1679, -0.8704, -1.2410, -1.0562,  0.4664, -1.3401, -2.4493,\n",
      "         3.2384, -0.3459])\n"
     ]
    }
   ],
   "source": [
    "print(model.fc1.weight)\n",
    "print(model.fc1.bias)"
   ]
  },
  {
   "cell_type": "markdown",
   "metadata": {},
   "source": [
    "For custom initialization, we want to modify these tensors in place. These are actually autograd *Variables*, so we need to get back the actual tensors with `model.fc1.weight.data`. Once we have the tensors, we can fill them with zeros (for biases) or random normal values."
   ]
  },
  {
   "cell_type": "code",
   "execution_count": 26,
   "metadata": {},
   "outputs": [
    {
     "data": {
      "text/plain": [
       "tensor([ 0.,  0.,  0.,  0.,  0.,  0.,  0.,  0.,  0.,  0.,  0.,  0.,\n",
       "         0.,  0.,  0.,  0.,  0.,  0.,  0.,  0.,  0.,  0.,  0.,  0.,\n",
       "         0.,  0.,  0.,  0.,  0.,  0.,  0.,  0.,  0.,  0.,  0.,  0.,\n",
       "         0.,  0.,  0.,  0.,  0.,  0.,  0.,  0.,  0.,  0.,  0.,  0.,\n",
       "         0.,  0.,  0.,  0.,  0.,  0.,  0.,  0.,  0.,  0.,  0.,  0.,\n",
       "         0.,  0.,  0.,  0.,  0.,  0.,  0.,  0.,  0.,  0.,  0.,  0.,\n",
       "         0.,  0.,  0.,  0.,  0.,  0.,  0.,  0.,  0.,  0.,  0.,  0.,\n",
       "         0.,  0.,  0.,  0.,  0.,  0.,  0.,  0.,  0.,  0.,  0.,  0.,\n",
       "         0.,  0.,  0.,  0.,  0.,  0.,  0.,  0.,  0.,  0.,  0.,  0.,\n",
       "         0.,  0.,  0.,  0.,  0.,  0.,  0.,  0.,  0.,  0.,  0.,  0.,\n",
       "         0.,  0.,  0.,  0.,  0.,  0.,  0.,  0.])"
      ]
     },
     "execution_count": 26,
     "metadata": {},
     "output_type": "execute_result"
    }
   ],
   "source": [
    "# Set biases to all zeros\n",
    "model.fc1.bias.data.fill_(0)"
   ]
  },
  {
   "cell_type": "code",
   "execution_count": 17,
   "metadata": {},
   "outputs": [
    {
     "data": {
      "text/plain": [
       "tensor([[-8.3573e-03, -1.2806e-03, -2.6940e-03,  ..., -1.5355e-03,\n",
       "          1.5796e-02, -9.7348e-03],\n",
       "        [-1.2399e-02,  4.8782e-03, -9.0315e-03,  ...,  1.9598e-02,\n",
       "          9.6137e-03,  1.3551e-02],\n",
       "        [ 1.0666e-02, -1.9931e-03, -1.1967e-03,  ...,  6.1142e-03,\n",
       "          1.8078e-02,  1.3670e-02],\n",
       "        ...,\n",
       "        [-7.0586e-03,  4.8149e-03,  2.4095e-04,  ...,  1.4644e-02,\n",
       "          2.9629e-03,  3.2083e-03],\n",
       "        [-6.7279e-03, -3.1275e-03, -1.4207e-02,  ..., -7.6438e-03,\n",
       "          1.2150e-02, -2.7847e-02],\n",
       "        [ 7.9238e-03,  1.0176e-03,  4.2007e-03,  ...,  7.1831e-03,\n",
       "          2.4273e-02,  1.0221e-02]])"
      ]
     },
     "execution_count": 17,
     "metadata": {},
     "output_type": "execute_result"
    }
   ],
   "source": [
    "# sample from random normal with standard dev = 0.01\n",
    "model.fc1.weight.data.normal_(std=0.01)"
   ]
  },
  {
   "cell_type": "markdown",
   "metadata": {},
   "source": [
    "### Forward pass\n",
    "\n",
    "Now that we have a network, let's see what happens when we pass in an image."
   ]
  },
  {
   "cell_type": "code",
   "execution_count": 27,
   "metadata": {},
   "outputs": [
    {
     "ename": "AttributeError",
     "evalue": "'Network' object has no attribute 'hidden'",
     "output_type": "error",
     "traceback": [
      "\u001b[0;31m---------------------------------------------------------------------------\u001b[0m",
      "\u001b[0;31mAttributeError\u001b[0m                            Traceback (most recent call last)",
      "\u001b[0;32m<ipython-input-27-3760ccc5c3dd>\u001b[0m in \u001b[0;36m<module>\u001b[0;34m\u001b[0m\n\u001b[1;32m      9\u001b[0m \u001b[0;31m# Forward pass through the network\u001b[0m\u001b[0;34m\u001b[0m\u001b[0;34m\u001b[0m\u001b[0m\n\u001b[1;32m     10\u001b[0m \u001b[0mimg_idx\u001b[0m \u001b[0;34m=\u001b[0m \u001b[0;36m0\u001b[0m\u001b[0;34m\u001b[0m\u001b[0m\n\u001b[0;32m---> 11\u001b[0;31m \u001b[0mps\u001b[0m \u001b[0;34m=\u001b[0m \u001b[0mmodel\u001b[0m\u001b[0;34m.\u001b[0m\u001b[0mforward\u001b[0m\u001b[0;34m(\u001b[0m\u001b[0mimages\u001b[0m\u001b[0;34m[\u001b[0m\u001b[0mimg_idx\u001b[0m\u001b[0;34m,\u001b[0m\u001b[0;34m:\u001b[0m\u001b[0;34m]\u001b[0m\u001b[0;34m)\u001b[0m\u001b[0;34m\u001b[0m\u001b[0m\n\u001b[0m\u001b[1;32m     12\u001b[0m \u001b[0;34m\u001b[0m\u001b[0m\n\u001b[1;32m     13\u001b[0m \u001b[0mimg\u001b[0m \u001b[0;34m=\u001b[0m \u001b[0mimages\u001b[0m\u001b[0;34m[\u001b[0m\u001b[0mimg_idx\u001b[0m\u001b[0;34m]\u001b[0m\u001b[0;34m\u001b[0m\u001b[0m\n",
      "\u001b[0;32m<ipython-input-23-492260bc40cc>\u001b[0m in \u001b[0;36mforward\u001b[0;34m(self, x)\u001b[0m\n\u001b[1;32m     20\u001b[0m     \u001b[0;32mdef\u001b[0m \u001b[0mforward\u001b[0m\u001b[0;34m(\u001b[0m\u001b[0mself\u001b[0m\u001b[0;34m,\u001b[0m \u001b[0mx\u001b[0m\u001b[0;34m)\u001b[0m\u001b[0;34m:\u001b[0m\u001b[0;34m\u001b[0m\u001b[0m\n\u001b[1;32m     21\u001b[0m         \u001b[0;31m# Pass the input tensor through each of our operations\u001b[0m\u001b[0;34m\u001b[0m\u001b[0;34m\u001b[0m\u001b[0m\n\u001b[0;32m---> 22\u001b[0;31m         \u001b[0mx\u001b[0m \u001b[0;34m=\u001b[0m \u001b[0mself\u001b[0m\u001b[0;34m.\u001b[0m\u001b[0mhidden\u001b[0m\u001b[0;34m(\u001b[0m\u001b[0mx\u001b[0m\u001b[0;34m)\u001b[0m\u001b[0;34m\u001b[0m\u001b[0m\n\u001b[0m\u001b[1;32m     23\u001b[0m         \u001b[0mx\u001b[0m \u001b[0;34m=\u001b[0m \u001b[0mself\u001b[0m\u001b[0;34m.\u001b[0m\u001b[0msigmoid\u001b[0m\u001b[0;34m(\u001b[0m\u001b[0mx\u001b[0m\u001b[0;34m)\u001b[0m\u001b[0;34m\u001b[0m\u001b[0m\n\u001b[1;32m     24\u001b[0m         \u001b[0mx\u001b[0m \u001b[0;34m=\u001b[0m \u001b[0mself\u001b[0m\u001b[0;34m.\u001b[0m\u001b[0moutput\u001b[0m\u001b[0;34m(\u001b[0m\u001b[0mx\u001b[0m\u001b[0;34m)\u001b[0m\u001b[0;34m\u001b[0m\u001b[0m\n",
      "\u001b[0;32m~/anaconda3/envs/aipnd/lib/python3.6/site-packages/torch/nn/modules/module.py\u001b[0m in \u001b[0;36m__getattr__\u001b[0;34m(self, name)\u001b[0m\n\u001b[1;32m    530\u001b[0m                 \u001b[0;32mreturn\u001b[0m \u001b[0mmodules\u001b[0m\u001b[0;34m[\u001b[0m\u001b[0mname\u001b[0m\u001b[0;34m]\u001b[0m\u001b[0;34m\u001b[0m\u001b[0m\n\u001b[1;32m    531\u001b[0m         raise AttributeError(\"'{}' object has no attribute '{}'\".format(\n\u001b[0;32m--> 532\u001b[0;31m             type(self).__name__, name))\n\u001b[0m\u001b[1;32m    533\u001b[0m \u001b[0;34m\u001b[0m\u001b[0m\n\u001b[1;32m    534\u001b[0m     \u001b[0;32mdef\u001b[0m \u001b[0m__setattr__\u001b[0m\u001b[0;34m(\u001b[0m\u001b[0mself\u001b[0m\u001b[0;34m,\u001b[0m \u001b[0mname\u001b[0m\u001b[0;34m,\u001b[0m \u001b[0mvalue\u001b[0m\u001b[0;34m)\u001b[0m\u001b[0;34m:\u001b[0m\u001b[0;34m\u001b[0m\u001b[0m\n",
      "\u001b[0;31mAttributeError\u001b[0m: 'Network' object has no attribute 'hidden'"
     ]
    }
   ],
   "source": [
    "# Grab some data \n",
    "dataiter = iter(trainloader)\n",
    "images, labels = dataiter.next()\n",
    "\n",
    "# Resize images into a 1D vector, new shape is (batch size, color channels, image pixels) \n",
    "images.resize_(64, 1, 784)\n",
    "# or images.resize_(images.shape[0], 1, 784) to automatically get batch size\n",
    "\n",
    "# Forward pass through the network\n",
    "img_idx = 0\n",
    "ps = model.forward(images[img_idx,:])\n",
    "\n",
    "img = images[img_idx]\n",
    "helper.view_classify(img.view(1, 28, 28), ps)"
   ]
  },
  {
   "cell_type": "markdown",
   "metadata": {},
   "source": [
    "As you can see above, our network has basically no idea what this digit is. It's because we haven't trained it yet, all the weights are random!\n",
    "\n",
    "### Using `nn.Sequential`\n",
    "\n",
    "PyTorch provides a convenient way to build networks like this where a tensor is passed sequentially through operations, `nn.Sequential` ([documentation](https://pytorch.org/docs/master/nn.html#torch.nn.Sequential)). Using this to build the equivalent network:"
   ]
  },
  {
   "cell_type": "code",
   "execution_count": 19,
   "metadata": {},
   "outputs": [
    {
     "name": "stdout",
     "output_type": "stream",
     "text": [
      "Sequential(\n",
      "  (0): Linear(in_features=784, out_features=128, bias=True)\n",
      "  (1): ReLU()\n",
      "  (2): Linear(in_features=128, out_features=64, bias=True)\n",
      "  (3): ReLU()\n",
      "  (4): Linear(in_features=64, out_features=10, bias=True)\n",
      "  (5): Softmax()\n",
      ")\n"
     ]
    },
    {
     "data": {
      "image/png": "[encoded data removed]",
      "text/plain": [
       "<Figure size 432x648 with 2 Axes>"
      ]
     },
     "metadata": {
      "image/png": {
       "height": 235,
       "width": 424
      },
      "needs_background": "light"
     },
     "output_type": "display_data"
    }
   ],
   "source": [
    "# Hyperparameters for our network\n",
    "input_size = 784\n",
    "hidden_sizes = [128, 64]\n",
    "output_size = 10\n",
    "\n",
    "# Build a feed-forward network\n",
    "model = nn.Sequential(nn.Linear(input_size, hidden_sizes[0]),\n",
    "                      nn.ReLU(),\n",
    "                      nn.Linear(hidden_sizes[0], hidden_sizes[1]),\n",
    "                      nn.ReLU(),\n",
    "                      nn.Linear(hidden_sizes[1], output_size),\n",
    "                      nn.Softmax(dim=1))\n",
    "print(model)\n",
    "\n",
    "# Forward pass through the network and display output\n",
    "images, labels = next(iter(trainloader))\n",
    "images.resize_(images.shape[0], 1, 784)\n",
    "ps = model.forward(images[0,:])\n",
    "helper.view_classify(images[0].view(1, 28, 28), ps)"
   ]
  },
  {
   "cell_type": "markdown",
   "metadata": {},
   "source": [
    "Here our model is the same as before: 784 input units, a hidden layer with 128 units, ReLU activation, 64 unit hidden layer, another ReLU, then the output layer with 10 units, and the softmax output.\n",
    "\n",
    "The operations are available by passing in the appropriate index. For example, if you want to get first Linear operation and look at the weights, you'd use `model[0]`."
   ]
  },
  {
   "cell_type": "code",
   "execution_count": 20,
   "metadata": {},
   "outputs": [
    {
     "name": "stdout",
     "output_type": "stream",
     "text": [
      "Linear(in_features=784, out_features=128, bias=True)\n"
     ]
    },
    {
     "data": {
      "text/plain": [
       "Parameter containing:\n",
       "tensor([[-1.0294e-02,  2.3942e-02, -5.9421e-03,  ..., -1.4067e-02,\n",
       "          1.9648e-02,  7.4899e-03],\n",
       "        [-7.0320e-03,  1.2397e-02, -1.4629e-02,  ..., -8.2865e-03,\n",
       "         -2.8884e-03, -2.4686e-02],\n",
       "        [-2.8169e-02,  1.6611e-02,  1.0021e-02,  ..., -1.0350e-02,\n",
       "         -2.0364e-02,  2.4002e-02],\n",
       "        ...,\n",
       "        [-2.7717e-02,  1.7065e-02, -4.3748e-03,  ..., -7.8231e-03,\n",
       "         -1.7149e-02,  1.6716e-02],\n",
       "        [-1.3192e-02, -8.1629e-03, -6.7424e-03,  ...,  2.6533e-02,\n",
       "          2.7210e-02,  2.0771e-02],\n",
       "        [-1.1828e-02,  2.4076e-02,  2.4080e-02,  ..., -2.7072e-02,\n",
       "         -6.2305e-03, -4.7438e-03]])"
      ]
     },
     "execution_count": 20,
     "metadata": {},
     "output_type": "execute_result"
    }
   ],
   "source": [
    "print(model[0])\n",
    "model[0].weight"
   ]
  },
  {
   "cell_type": "markdown",
   "metadata": {},
   "source": [
    "You can also pass in an `OrderedDict` to name the individual layers and operations, instead of using incremental integers. Note that dictionary keys must be unique, so _each operation must have a different name_."
   ]
  },
  {
   "cell_type": "code",
   "execution_count": 21,
   "metadata": {},
   "outputs": [
    {
     "data": {
      "text/plain": [
       "Sequential(\n",
       "  (fc1): Linear(in_features=784, out_features=128, bias=True)\n",
       "  (relu1): ReLU()\n",
       "  (fc2): Linear(in_features=128, out_features=64, bias=True)\n",
       "  (relu2): ReLU()\n",
       "  (output): Linear(in_features=64, out_features=10, bias=True)\n",
       "  (softmax): Softmax()\n",
       ")"
      ]
     },
     "execution_count": 21,
     "metadata": {},
     "output_type": "execute_result"
    }
   ],
   "source": [
    "from collections import OrderedDict\n",
    "model = nn.Sequential(OrderedDict([\n",
    "                      ('fc1', nn.Linear(input_size, hidden_sizes[0])),\n",
    "                      ('relu1', nn.ReLU()),\n",
    "                      ('fc2', nn.Linear(hidden_sizes[0], hidden_sizes[1])),\n",
    "                      ('relu2', nn.ReLU()),\n",
    "                      ('output', nn.Linear(hidden_sizes[1], output_size)),\n",
    "                      ('softmax', nn.Softmax(dim=1))]))\n",
    "model"
   ]
  },
  {
   "cell_type": "markdown",
   "metadata": {},
   "source": [
    "Now you can access layers either by integer or the name"
   ]
  },
  {
   "cell_type": "code",
   "execution_count": 22,
   "metadata": {},
   "outputs": [
    {
     "name": "stdout",
     "output_type": "stream",
     "text": [
      "Linear(in_features=784, out_features=128, bias=True)\n",
      "Linear(in_features=784, out_features=128, bias=True)\n"
     ]
    }
   ],
   "source": [
    "print(model[0])\n",
    "print(model.fc1)"
   ]
  },
  {
   "cell_type": "markdown",
   "metadata": {},
   "source": [
    "In the next notebook, we'll see how we can train a neural network to accuractly predict the numbers appearing in the MNIST images."
   ]
  }
 ],
 "metadata": {
  "kernelspec": {
   "display_name": "Python 3",
   "language": "python",
   "name": "python3"
  },
  "language_info": {
   "codemirror_mode": {
    "name": "ipython",
    "version": 3
   },
   "file_extension": ".py",
   "mimetype": "text/x-python",
   "name": "python",
   "nbconvert_exporter": "python",
   "pygments_lexer": "ipython3",
   "version": "3.6.3"
  }
 },
 "nbformat": 4,
 "nbformat_minor": 2
}
